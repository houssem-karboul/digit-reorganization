{
  "nbformat": 4,
  "nbformat_minor": 0,
  "metadata": {
    "colab": {
      "name": "train.ipynb",
      "provenance": [],
      "collapsed_sections": [],
      "authorship_tag": "ABX9TyM4dug1T2C4pigIXkxrATIa",
      "include_colab_link": true
    },
    "kernelspec": {
      "name": "python3",
      "display_name": "Python 3"
    },
    "language_info": {
      "name": "python"
    },
    "accelerator": "GPU"
  },
  "cells": [
    {
      "cell_type": "markdown",
      "metadata": {
        "id": "view-in-github",
        "colab_type": "text"
      },
      "source": [
        "<a href=\"https://colab.research.google.com/github/houssem-karboul/digit-reorganization/blob/main/train.ipynb\" target=\"_parent\"><img src=\"https://colab.research.google.com/assets/colab-badge.svg\" alt=\"Open In Colab\"/></a>"
      ]
    },
    {
      "cell_type": "code",
      "metadata": {
        "colab": {
          "base_uri": "https://localhost:8080/"
        },
        "id": "n1mzLtoP3Wur",
        "outputId": "40a6ae97-5d36-40dc-c95e-ca08e78e8c04"
      },
      "source": [
        "import keras\n",
        "from keras.utils import np_utils\n",
        "from keras.datasets import mnist\n",
        "from keras.models import Sequential\n",
        "from keras.layers import Dense, Dropout, Flatten\n",
        "from keras.layers import Conv2D, MaxPooling2D\n",
        "from keras import backend as K\n",
        "import keras.utils \n",
        "\n",
        "\n",
        "# the data, split between train and test sets\n",
        "(x_train, y_train), (x_test, y_test) = mnist.load_data()\n",
        "\n",
        "print(x_train.shape, y_train.shape)\n",
        "x_train = x_train.reshape(x_train.shape[0], 28, 28, 1)\n",
        "x_test = x_test.reshape(x_test.shape[0], 28, 28, 1)\n",
        "input_shape = (28, 28, 1)\n",
        "num_classes = 10\n",
        "\n",
        "# convert class vectors to binary class matrices\n",
        "y_train = np_utils.to_categorical(y_train, num_classes)\n",
        "y_test = np_utils.to_categorical(y_test, num_classes)\n",
        "x_train = x_train.astype('float32')\n",
        "x_test = x_test.astype('float32')\n",
        "x_train /= 255\n",
        "x_test /= 255\n",
        "print('x_train shape:', x_train.shape)\n",
        "print(x_train.shape[0], 'train samples')\n",
        "print(x_test.shape[0], 'test samples')\n",
        "batch_size = 128\n",
        "epochs = 10\n",
        "\n",
        "model = Sequential()\n",
        "model.add(Conv2D(32, kernel_size=(3, 3),activation='relu',input_shape=input_shape))\n",
        "model.add(Conv2D(64, (3, 3), activation='relu'))\n",
        "model.add(MaxPooling2D(pool_size=(2, 2)))\n",
        "model.add(Dropout(0.25))\n",
        "model.add(Flatten())\n",
        "model.add(Dense(256, activation='relu'))\n",
        "model.add(Dropout(0.5))\n",
        "model.add(Dense(num_classes, activation='softmax'))\n",
        "\n",
        "model.compile(loss=keras.losses.categorical_crossentropy,optimizer=keras.optimizers.Adadelta(),metrics=['accuracy'])\n",
        "hist = model.fit(x_train, y_train,batch_size=batch_size,epochs=epochs,verbose=1,validation_data=(x_test, y_test))\n",
        "print(\"The model has successfully trained\")\n",
        "\n",
        "model.save('mnist.h5')\n",
        "print(\"Saving the model as mnist.h5\")"
      ],
      "execution_count": 1,
      "outputs": [
        {
          "output_type": "stream",
          "text": [
            "Downloading data from https://storage.googleapis.com/tensorflow/tf-keras-datasets/mnist.npz\n",
            "11493376/11490434 [==============================] - 0s 0us/step\n",
            "11501568/11490434 [==============================] - 0s 0us/step\n",
            "(60000, 28, 28) (60000,)\n",
            "x_train shape: (60000, 28, 28, 1)\n",
            "60000 train samples\n",
            "10000 test samples\n",
            "Epoch 1/10\n",
            "469/469 [==============================] - 50s 12ms/step - loss: 2.2894 - accuracy: 0.1467 - val_loss: 2.2410 - val_accuracy: 0.4151\n",
            "Epoch 2/10\n",
            "469/469 [==============================] - 4s 10ms/step - loss: 2.2359 - accuracy: 0.2855 - val_loss: 2.1713 - val_accuracy: 0.6002\n",
            "Epoch 3/10\n",
            "469/469 [==============================] - 5s 10ms/step - loss: 2.1664 - accuracy: 0.4096 - val_loss: 2.0709 - val_accuracy: 0.6997\n",
            "Epoch 4/10\n",
            "469/469 [==============================] - 5s 10ms/step - loss: 2.0642 - accuracy: 0.5073 - val_loss: 1.9195 - val_accuracy: 0.7537\n",
            "Epoch 5/10\n",
            "469/469 [==============================] - 5s 10ms/step - loss: 1.9127 - accuracy: 0.5845 - val_loss: 1.7040 - val_accuracy: 0.7800\n",
            "Epoch 6/10\n",
            "469/469 [==============================] - 4s 10ms/step - loss: 1.7066 - accuracy: 0.6331 - val_loss: 1.4393 - val_accuracy: 0.8039\n",
            "Epoch 7/10\n",
            "469/469 [==============================] - 5s 10ms/step - loss: 1.4678 - accuracy: 0.6729 - val_loss: 1.1756 - val_accuracy: 0.8211\n",
            "Epoch 8/10\n",
            "469/469 [==============================] - 5s 10ms/step - loss: 1.2466 - accuracy: 0.6964 - val_loss: 0.9637 - val_accuracy: 0.8314\n",
            "Epoch 9/10\n",
            "469/469 [==============================] - 5s 10ms/step - loss: 1.0737 - accuracy: 0.7219 - val_loss: 0.8121 - val_accuracy: 0.8419\n",
            "Epoch 10/10\n",
            "469/469 [==============================] - 5s 10ms/step - loss: 0.9533 - accuracy: 0.7369 - val_loss: 0.7082 - val_accuracy: 0.8497\n",
            "The model has successfully trained\n",
            "Saving the model as mnist.h5\n"
          ],
          "name": "stdout"
        }
      ]
    },
    {
      "cell_type": "code",
      "metadata": {
        "id": "hoZAQwqIMh3t",
        "colab": {
          "base_uri": "https://localhost:8080/"
        },
        "outputId": "f88b21a5-0467-4f73-b953-41d1daa74f6e"
      },
      "source": [
        "score = model.evaluate(x_test, y_test, verbose=0)\n",
        "print('Test loss:', score[0])\n",
        "print('Test accuracy:', score[1])"
      ],
      "execution_count": 2,
      "outputs": [
        {
          "output_type": "stream",
          "text": [
            "Test loss: 0.7081748843193054\n",
            "Test accuracy: 0.8496999740600586\n"
          ],
          "name": "stdout"
        }
      ]
    },
    {
      "cell_type": "markdown",
      "metadata": {
        "id": "BScerJ6NMX1c"
      },
      "source": [
        ""
      ]
    },
    {
      "cell_type": "markdown",
      "metadata": {
        "id": "lp72iC5aMXlk"
      },
      "source": [
        ""
      ]
    }
  ]
}