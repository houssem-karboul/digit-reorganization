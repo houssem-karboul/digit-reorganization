{
  "nbformat": 4,
  "nbformat_minor": 0,
  "metadata": {
    "colab": {
      "name": "toxic_plant.ipynb",
      "provenance": [],
      "collapsed_sections": [],
      "authorship_tag": "ABX9TyMAls2PP7I5G9vxr79BfyQC",
      "include_colab_link": true
    },
    "kernelspec": {
      "name": "python3",
      "display_name": "Python 3"
    },
    "language_info": {
      "name": "python"
    }
  },
  "cells": [
    {
      "cell_type": "markdown",
      "metadata": {
        "id": "view-in-github",
        "colab_type": "text"
      },
      "source": [
        "<a href=\"https://colab.research.google.com/github/houssem-karboul/digit-reorganization/blob/main/toxic_plant.ipynb\" target=\"_parent\"><img src=\"https://colab.research.google.com/assets/colab-badge.svg\" alt=\"Open In Colab\"/></a>"
      ]
    },
    {
      "cell_type": "code",
      "execution_count": 66,
      "metadata": {
        "id": "AX5LkxJgIMQ7"
      },
      "outputs": [],
      "source": [
        "import numpy as np\n",
        "from sklearn.metrics import accuracy_score\n",
        "import matplotlib.pyplot as plt\n",
        "from sklearn.datasets import make_blobs\n"
      ]
    },
    {
      "cell_type": "code",
      "source": [
        "(X,y)=make_blobs(n_samples=100,n_features=2,centers=2,random_state=0) #dataset with 100 lignes 2 variabe \n",
        "y=y.reshape(y.shape[0],1)\n",
        "print(\"dimension  de X\",X.shape)\n",
        "print(\"dimension  de y\",X.shape)"
      ],
      "metadata": {
        "colab": {
          "base_uri": "https://localhost:8080/"
        },
        "id": "6iNe3yuSJdc9",
        "outputId": "96095ee7-7fd8-44af-e240-d99a7056cc53"
      },
      "execution_count": 67,
      "outputs": [
        {
          "output_type": "stream",
          "name": "stdout",
          "text": [
            "dimension  de X (100, 2)\n",
            "dimension  de y (100, 2)\n"
          ]
        }
      ]
    },
    {
      "cell_type": "code",
      "source": [
        "plt.scatter(X[:,0],X[:,1],c=y,cmap='summer')\n",
        "plt.show()"
      ],
      "metadata": {
        "colab": {
          "base_uri": "https://localhost:8080/",
          "height": 265
        },
        "id": "5UnnvXRHKisX",
        "outputId": "785af1fe-c196-4510-d02a-943302b06aa6"
      },
      "execution_count": 68,
      "outputs": [
        {
          "output_type": "display_data",
          "data": {
            "image/png": "[encoded data removed]",
            "text/plain": [
              "<Figure size 432x288 with 1 Axes>"
            ]
          },
          "metadata": {
            "needs_background": "light"
          }
        }
      ]
    },
    {
      "cell_type": "code",
      "source": [
        "def initialize(X):\n",
        "  W=np.random.rand(X.shape[1],1)\n",
        "  b=np.random.rand(1)\n",
        "  return (W,b)\n",
        "\n",
        "\n"
      ],
      "metadata": {
        "id": "THrWTGp8P-fp"
      },
      "execution_count": 69,
      "outputs": []
    },
    {
      "cell_type": "code",
      "source": [
        "def model(X,W,b):\n",
        "  Z=X.dot(W)+b\n",
        "  A=1/(1+np.exp(-Z))\n",
        "  return A"
      ],
      "metadata": {
        "id": "cKL_Kj22QkNI"
      },
      "execution_count": 70,
      "outputs": []
    },
    {
      "cell_type": "code",
      "source": [
        "def log_loss(A,y):\n",
        "  return 1/len(y) * np.sum(-y*np.log(A)-(1-y)*np.log2(1-A))\n"
      ],
      "metadata": {
        "id": "a90WUiGlWkS0"
      },
      "execution_count": 71,
      "outputs": []
    },
    {
      "cell_type": "code",
      "source": [
        "def gradient_descent(A,X,y):\n",
        "  dw=(1/len(y))*np.dot(X.T,A-y)\n",
        "  db=(1/len(y))*np.sum(A-y)\n",
        "  return (dw,db)\n",
        "\n"
      ],
      "metadata": {
        "id": "-Zu9mui6YLx9"
      },
      "execution_count": 72,
      "outputs": []
    },
    {
      "cell_type": "code",
      "source": [
        "def update(W,b,dw,db,learning_rate):\n",
        "  W=W-learning_rate*dw\n",
        "  b=b-learning_rate*db\n",
        "  return (W,b)\n"
      ],
      "metadata": {
        "id": "EDF_SQTTcw04"
      },
      "execution_count": 73,
      "outputs": []
    },
    {
      "cell_type": "code",
      "source": [
        "def predict(X,W,b):\n",
        "  A=model(X,W,b)\n",
        "  return A>=0.5"
      ],
      "metadata": {
        "id": "p685bxuqHKEa"
      },
      "execution_count": 74,
      "outputs": []
    },
    {
      "cell_type": "code",
      "source": [
        "def neurone(X,y,learning_rate=0.1,n_iter=100):\n",
        "  W,b=initialize(X)\n",
        "  loss=[] #empty list\n",
        "  for i in range(n_iter):\n",
        "      A = model(X,W,b)\n",
        "      cost=log_loss(A,y)\n",
        "      loss.append(cost)\n",
        "      (dw,db)=gradient_descent(A,X,y)\n",
        "      (W,b)=update(W,b,dw,db,learning_rate=0.1)\n",
        " \n",
        "  y_pred=predict(X,W,b)\n",
        "  print(accuracy_score(y,y_pred))\n",
        "  plt.plot(loss)\n",
        "  plt.show()\n",
        "  return (W,b)\n",
        "\n"
      ],
      "metadata": {
        "id": "Ab-sK59UdOhM"
      },
      "execution_count": 75,
      "outputs": []
    },
    {
      "cell_type": "code",
      "source": [
        "(W,b)=neurone(X,y)"
      ],
      "metadata": {
        "colab": {
          "base_uri": "https://localhost:8080/",
          "height": 282
        },
        "id": "gRBvlhoVVvWe",
        "outputId": "b4d66cde-60b2-4306-e9f0-7c6740be0a30"
      },
      "execution_count": 76,
      "outputs": [
        {
          "output_type": "stream",
          "name": "stdout",
          "text": [
            "0.9\n"
          ]
        },
        {
          "output_type": "display_data",
          "data": {
            "image/png": "[encoded data removed]",
            "text/plain": [
              "<Figure size 432x288 with 1 Axes>"
            ]
          },
          "metadata": {
            "needs_background": "light"
          }
        }
      ]
    },
    {
      "cell_type": "code",
      "source": [
        ""
      ],
      "metadata": {
        "id": "XFyB3xvwJ6Tj"
      },
      "execution_count": 76,
      "outputs": []
    },
    {
      "cell_type": "code",
      "source": [
        "W"
      ],
      "metadata": {
        "colab": {
          "base_uri": "https://localhost:8080/"
        },
        "id": "ai6zizubJzfN",
        "outputId": "61d1af79-6b2f-4971-e64e-f41ba2830bf2"
      },
      "execution_count": 77,
      "outputs": [
        {
          "output_type": "execute_result",
          "data": {
            "text/plain": [
              "array([[ 1.00475432],\n",
              "       [-1.09117801]])"
            ]
          },
          "metadata": {},
          "execution_count": 77
        }
      ]
    },
    {
      "cell_type": "code",
      "source": [
        "b"
      ],
      "metadata": {
        "colab": {
          "base_uri": "https://localhost:8080/"
        },
        "id": "I0TWJDv-KAwd",
        "outputId": "d2c752d3-c4bf-4c59-c8d8-282c7bc362b2"
      },
      "execution_count": 78,
      "outputs": [
        {
          "output_type": "execute_result",
          "data": {
            "text/plain": [
              "array([1.03745991])"
            ]
          },
          "metadata": {},
          "execution_count": 78
        }
      ]
    }
  ]
}